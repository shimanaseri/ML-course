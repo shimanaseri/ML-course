{
  "nbformat": 4,
  "nbformat_minor": 0,
  "metadata": {
    "colab": {
      "provenance": []
    },
    "kernelspec": {
      "name": "python3",
      "display_name": "Python 3"
    },
    "language_info": {
      "name": "python"
    }
  },
  "cells": [
    {
      "cell_type": "code",
      "source": [
        "!pip install wget"
      ],
      "metadata": {
        "colab": {
          "base_uri": "https://localhost:8080/"
        },
        "id": "orrq348HEV_f",
        "outputId": "1ec74656-78c3-4c86-fe56-dd627f893ac2"
      },
      "execution_count": null,
      "outputs": [
        {
          "output_type": "stream",
          "name": "stdout",
          "text": [
            "Collecting wget\n",
            "  Downloading wget-3.2.zip (10 kB)\n",
            "  Preparing metadata (setup.py) ... \u001b[?25l\u001b[?25hdone\n",
            "Building wheels for collected packages: wget\n",
            "  Building wheel for wget (setup.py) ... \u001b[?25l\u001b[?25hdone\n",
            "  Created wheel for wget: filename=wget-3.2-py3-none-any.whl size=9656 sha256=96267fd21e85c036494c9382ff2c3d41cddaac1140f8b7d6ecc088a6ddd45de7\n",
            "  Stored in directory: /root/.cache/pip/wheels/8b/f1/7f/5c94f0a7a505ca1c81cd1d9208ae2064675d97582078e6c769\n",
            "Successfully built wget\n",
            "Installing collected packages: wget\n",
            "Successfully installed wget-3.2\n"
          ]
        }
      ]
    },
    {
      "cell_type": "code",
      "source": [
        "import wget\n",
        "\n",
        "urls = [\n",
        "    \"https://engineering.case.edu/sites/default/files/99.mat\",\n",
        "    \"https://engineering.case.edu/sites/default/files/107.mat\"\n",
        "]\n",
        "\n",
        "wget.download(urls[0]) #99 as normal\n",
        "wget.download(urls[1]) #107 as fault"
      ],
      "metadata": {
        "colab": {
          "base_uri": "https://localhost:8080/",
          "height": 36
        },
        "id": "aLhhobcmEe_H",
        "outputId": "c1765452-23c1-461a-ebdb-aa68eb9d912a"
      },
      "execution_count": null,
      "outputs": [
        {
          "output_type": "execute_result",
          "data": {
            "text/plain": [
              "'107.mat'"
            ],
            "application/vnd.google.colaboratory.intrinsic+json": {
              "type": "string"
            }
          },
          "metadata": {},
          "execution_count": 3
        }
      ]
    },
    {
      "cell_type": "code",
      "source": [
        "import pandas as pd\n",
        "import scipy.io as scio\n",
        "import numpy as np\n",
        "\n",
        "mat = scio.loadmat('99.mat')\n",
        "variables = scio.whosmat('99.mat')\n",
        "\n",
        "data1 = mat['X098_DE_time']\n",
        "data2 = mat['X098_FE_time']\n",
        "\n",
        "df1 = pd.DataFrame(data1)\n",
        "df2 = pd.DataFrame(data2)\n",
        "\n",
        "normal=[]\n",
        "\n",
        "for i in range(1000):\n",
        "    a=np.concatenate([df1.values[i*200:200+i*200], df2.values[i*200:200+i*200]])\n",
        "    a=np.reshape(a,(200,2))\n",
        "    normal.append(a)\n",
        "\n",
        "\n",
        "normal=np.squeeze(normal)\n",
        "normal.shape"
      ],
      "metadata": {
        "colab": {
          "base_uri": "https://localhost:8080/"
        },
        "id": "IjEgNicdE6YH",
        "outputId": "0ab4d532-1512-49d9-aacd-008c62d94d8f"
      },
      "execution_count": null,
      "outputs": [
        {
          "output_type": "execute_result",
          "data": {
            "text/plain": [
              "(1000, 200, 2)"
            ]
          },
          "metadata": {},
          "execution_count": 4
        }
      ]
    },
    {
      "cell_type": "code",
      "source": [
        "mat = scio.loadmat('107.mat')\n",
        "variables = scio.whosmat('107.mat')\n",
        "\n",
        "data1 = mat['X107_DE_time']\n",
        "data2 = mat['X107_FE_time']\n",
        "\n",
        "df1 = pd.DataFrame(data1)\n",
        "df2 = pd.DataFrame(data2)\n",
        "\n",
        "f1=[]\n",
        "\n",
        "for i in range(600):\n",
        "    a=np.concatenate([df1.values[i*200:200+i*200], df2.values[i*200:200+i*200]])\n",
        "    a=np.reshape(a,(200,2))\n",
        "    f1.append(a)\n",
        "\n",
        "\n",
        "f1=np.squeeze(f1)\n",
        "f1.shape"
      ],
      "metadata": {
        "colab": {
          "base_uri": "https://localhost:8080/"
        },
        "id": "EtkZ8a1xFyr_",
        "outputId": "8ca928e1-63d3-45f1-ebb0-c4a8f20717f8"
      },
      "execution_count": null,
      "outputs": [
        {
          "output_type": "execute_result",
          "data": {
            "text/plain": [
              "(600, 200, 2)"
            ]
          },
          "metadata": {},
          "execution_count": 5
        }
      ]
    },
    {
      "cell_type": "code",
      "source": [
        "X = np.concatenate((normal, f1))\n",
        "y = np.concatenate((np.zeros(len(normal)), np.ones(len(f1))))"
      ],
      "metadata": {
        "id": "ybCaDdYzKXav"
      },
      "execution_count": null,
      "outputs": []
    },
    {
      "cell_type": "code",
      "source": [
        "import matplotlib.pyplot as plt\n",
        "X_reshaped = X.reshape((1600, -1))\n",
        "\n",
        "fig = plt.figure(figsize=(10,8))\n",
        "ax = fig.add_subplot()\n",
        "\n",
        "ax.scatter(X_reshaped[:, 0], X_reshaped[:, 1],c=y)"
      ],
      "metadata": {
        "colab": {
          "base_uri": "https://localhost:8080/",
          "height": 693
        },
        "id": "QwMnlZhJKJSY",
        "outputId": "55a91a56-cd2c-428b-9d8b-bea854b81480"
      },
      "execution_count": null,
      "outputs": [
        {
          "output_type": "execute_result",
          "data": {
            "text/plain": [
              "<matplotlib.collections.PathCollection at 0x7e9556513400>"
            ]
          },
          "metadata": {},
          "execution_count": 7
        },
        {
          "output_type": "display_data",
          "data": {
            "text/plain": [
              "<Figure size 1000x800 with 1 Axes>"
            ],
            "image/png": "[encoded data removed]"
          },
          "metadata": {}
        }
      ]
    },
    {
      "cell_type": "markdown",
      "source": [
        "# Extracting Features"
      ],
      "metadata": {
        "id": "WZOhYvRx7V3m"
      }
    },
    {
      "cell_type": "code",
      "source": [
        "std_X= X.std(axis=1)\n",
        "peak_X= X.max(axis=1)\n",
        "\n",
        "from scipy.stats import skew, kurtosis\n",
        "skewness_X= skew(X, axis=1)\n",
        "kurtosis_X= kurtosis(X, axis=1)\n",
        "\n",
        "crest_factor_X = np.max(X, axis=1) / np.sqrt(np.mean(X**2, axis=1))\n",
        "ptp_X= np.ptp(X, axis=1)\n",
        "mean_X= np.mean(X, axis=1)\n",
        "rms_X = np.sqrt(np.mean(X**2, axis=1))\n",
        "abs_mean_X= np.mean(np.abs(X), axis=1)"
      ],
      "metadata": {
        "id": "iSJZD1iwLvHH"
      },
      "execution_count": null,
      "outputs": []
    },
    {
      "cell_type": "code",
      "source": [
        "X_new=np.concatenate([std_X, peak_X, skewness_X, kurtosis_X, crest_factor_X, ptp_X, mean_X, rms_X, abs_mean_X],axis=1)"
      ],
      "metadata": {
        "id": "KXhGerSAMMH3"
      },
      "execution_count": null,
      "outputs": []
    },
    {
      "cell_type": "code",
      "source": [
        "X_new.shape"
      ],
      "metadata": {
        "colab": {
          "base_uri": "https://localhost:8080/"
        },
        "id": "gPUjStJFMNt4",
        "outputId": "1438c742-c2f0-45d8-9837-5f3c12dd9fa7"
      },
      "execution_count": null,
      "outputs": [
        {
          "output_type": "execute_result",
          "data": {
            "text/plain": [
              "(1600, 18)"
            ]
          },
          "metadata": {},
          "execution_count": 9
        }
      ]
    },
    {
      "cell_type": "code",
      "source": [
        "data= pd.DataFrame(X_new,columns=['std_0','std_1','peak_0','peak_1', 'skewness_0', 'skewness_1', 'kurtosis_0', 'kurtosis_1', 'crest_factor_0', 'crest_factor_1','ptp_0', 'ptp_1', 'mean_0', 'mean_1', 'rms_0', 'rms_1', 'abs_mean_0', 'abs_mean_1'])"
      ],
      "metadata": {
        "id": "9YKoxyxgTRdm"
      },
      "execution_count": null,
      "outputs": []
    },
    {
      "cell_type": "code",
      "source": [
        "data.head()"
      ],
      "metadata": {
        "colab": {
          "base_uri": "https://localhost:8080/",
          "height": 226
        },
        "id": "Q5yzqkrdUs6-",
        "outputId": "bc44f8b4-61a7-438a-f565-d5b11f4cc3ae"
      },
      "execution_count": null,
      "outputs": [
        {
          "output_type": "execute_result",
          "data": {
            "text/plain": [
              "      std_0     std_1    peak_0    peak_1  skewness_0  skewness_1  kurtosis_0  \\\n",
              "0  0.060663  0.060877  0.180800  0.171965   -0.365262   -0.337173    0.646471   \n",
              "1  0.068410  0.068715  0.229082  0.206482   -0.059702   -0.102322   -0.008675   \n",
              "2  0.072933  0.072956  0.200318  0.213262   -0.098350   -0.092432   -0.316778   \n",
              "3  0.070353  0.070375  0.241204  0.223535    0.034709   -0.032924    0.196209   \n",
              "4  0.058739  0.059006  0.185525  0.171349   -0.010071    0.030679    0.139992   \n",
              "\n",
              "   kurtosis_1  crest_factor_0  crest_factor_1     ptp_0     ptp_1    mean_0  \\\n",
              "0    0.463768        2.937679        2.785655  0.379610  0.362849  0.010385   \n",
              "1   -0.046899        3.122650        2.798256  0.376573  0.366490  0.026496   \n",
              "2   -0.261666        2.678186        2.853226  0.372217  0.388082  0.016593   \n",
              "3    0.010201        3.166207        2.929587  0.438762  0.394808  0.029221   \n",
              "4    0.065996        3.066759        2.823319  0.338232  0.320926  0.014474   \n",
              "\n",
              "     mean_1     rms_0     rms_1  abs_mean_0  abs_mean_1  \n",
              "0  0.010239  0.061545  0.061733    0.048017    0.048524  \n",
              "1  0.026890  0.073361  0.073789    0.059287    0.059192  \n",
              "2  0.016249  0.074796  0.074744    0.059930    0.059926  \n",
              "3  0.029486  0.076181  0.076302    0.060834    0.061052  \n",
              "4  0.014199  0.060496  0.060691    0.047044    0.047844  "
            ],
            "text/html": [
              "\n",
              "  <div id=\"df-71c56e94-8be5-481c-b0af-b6f2fbdb0041\" class=\"colab-df-container\">\n",
              "    <div>\n",
              "<style scoped>\n",
              "    .dataframe tbody tr th:only-of-type {\n",
              "        vertical-align: middle;\n",
              "    }\n",
              "\n",
              "    .dataframe tbody tr th {\n",
              "        vertical-align: top;\n",
              "    }\n",
              "\n",
              "    .dataframe thead th {\n",
              "        text-align: right;\n",
              "    }\n",
              "</style>\n",
              "<table border=\"1\" class=\"dataframe\">\n",
              "  <thead>\n",
              "    <tr style=\"text-align: right;\">\n",
              "      <th></th>\n",
              "      <th>std_0</th>\n",
              "      <th>std_1</th>\n",
              "      <th>peak_0</th>\n",
              "      <th>peak_1</th>\n",
              "      <th>skewness_0</th>\n",
              "      <th>skewness_1</th>\n",
              "      <th>kurtosis_0</th>\n",
              "      <th>kurtosis_1</th>\n",
              "      <th>crest_factor_0</th>\n",
              "      <th>crest_factor_1</th>\n",
              "      <th>ptp_0</th>\n",
              "      <th>ptp_1</th>\n",
              "      <th>mean_0</th>\n",
              "      <th>mean_1</th>\n",
              "      <th>rms_0</th>\n",
              "      <th>rms_1</th>\n",
              "      <th>abs_mean_0</th>\n",
              "      <th>abs_mean_1</th>\n",
              "    </tr>\n",
              "  </thead>\n",
              "  <tbody>\n",
              "    <tr>\n",
              "      <th>0</th>\n",
              "      <td>0.060663</td>\n",
              "      <td>0.060877</td>\n",
              "      <td>0.180800</td>\n",
              "      <td>0.171965</td>\n",
              "      <td>-0.365262</td>\n",
              "      <td>-0.337173</td>\n",
              "      <td>0.646471</td>\n",
              "      <td>0.463768</td>\n",
              "      <td>2.937679</td>\n",
              "      <td>2.785655</td>\n",
              "      <td>0.379610</td>\n",
              "      <td>0.362849</td>\n",
              "      <td>0.010385</td>\n",
              "      <td>0.010239</td>\n",
              "      <td>0.061545</td>\n",
              "      <td>0.061733</td>\n",
              "      <td>0.048017</td>\n",
              "      <td>0.048524</td>\n",
              "    </tr>\n",
              "    <tr>\n",
              "      <th>1</th>\n",
              "      <td>0.068410</td>\n",
              "      <td>0.068715</td>\n",
              "      <td>0.229082</td>\n",
              "      <td>0.206482</td>\n",
              "      <td>-0.059702</td>\n",
              "      <td>-0.102322</td>\n",
              "      <td>-0.008675</td>\n",
              "      <td>-0.046899</td>\n",
              "      <td>3.122650</td>\n",
              "      <td>2.798256</td>\n",
              "      <td>0.376573</td>\n",
              "      <td>0.366490</td>\n",
              "      <td>0.026496</td>\n",
              "      <td>0.026890</td>\n",
              "      <td>0.073361</td>\n",
              "      <td>0.073789</td>\n",
              "      <td>0.059287</td>\n",
              "      <td>0.059192</td>\n",
              "    </tr>\n",
              "    <tr>\n",
              "      <th>2</th>\n",
              "      <td>0.072933</td>\n",
              "      <td>0.072956</td>\n",
              "      <td>0.200318</td>\n",
              "      <td>0.213262</td>\n",
              "      <td>-0.098350</td>\n",
              "      <td>-0.092432</td>\n",
              "      <td>-0.316778</td>\n",
              "      <td>-0.261666</td>\n",
              "      <td>2.678186</td>\n",
              "      <td>2.853226</td>\n",
              "      <td>0.372217</td>\n",
              "      <td>0.388082</td>\n",
              "      <td>0.016593</td>\n",
              "      <td>0.016249</td>\n",
              "      <td>0.074796</td>\n",
              "      <td>0.074744</td>\n",
              "      <td>0.059930</td>\n",
              "      <td>0.059926</td>\n",
              "    </tr>\n",
              "    <tr>\n",
              "      <th>3</th>\n",
              "      <td>0.070353</td>\n",
              "      <td>0.070375</td>\n",
              "      <td>0.241204</td>\n",
              "      <td>0.223535</td>\n",
              "      <td>0.034709</td>\n",
              "      <td>-0.032924</td>\n",
              "      <td>0.196209</td>\n",
              "      <td>0.010201</td>\n",
              "      <td>3.166207</td>\n",
              "      <td>2.929587</td>\n",
              "      <td>0.438762</td>\n",
              "      <td>0.394808</td>\n",
              "      <td>0.029221</td>\n",
              "      <td>0.029486</td>\n",
              "      <td>0.076181</td>\n",
              "      <td>0.076302</td>\n",
              "      <td>0.060834</td>\n",
              "      <td>0.061052</td>\n",
              "    </tr>\n",
              "    <tr>\n",
              "      <th>4</th>\n",
              "      <td>0.058739</td>\n",
              "      <td>0.059006</td>\n",
              "      <td>0.185525</td>\n",
              "      <td>0.171349</td>\n",
              "      <td>-0.010071</td>\n",
              "      <td>0.030679</td>\n",
              "      <td>0.139992</td>\n",
              "      <td>0.065996</td>\n",
              "      <td>3.066759</td>\n",
              "      <td>2.823319</td>\n",
              "      <td>0.338232</td>\n",
              "      <td>0.320926</td>\n",
              "      <td>0.014474</td>\n",
              "      <td>0.014199</td>\n",
              "      <td>0.060496</td>\n",
              "      <td>0.060691</td>\n",
              "      <td>0.047044</td>\n",
              "      <td>0.047844</td>\n",
              "    </tr>\n",
              "  </tbody>\n",
              "</table>\n",
              "</div>\n",
              "    <div class=\"colab-df-buttons\">\n",
              "\n",
              "  <div class=\"colab-df-container\">\n",
              "    <button class=\"colab-df-convert\" onclick=\"convertToInteractive('df-71c56e94-8be5-481c-b0af-b6f2fbdb0041')\"\n",
              "            title=\"Convert this dataframe to an interactive table.\"\n",
              "            style=\"display:none;\">\n",
              "\n",
              "  <svg xmlns=\"http://www.w3.org/2000/svg\" height=\"24px\" viewBox=\"0 -960 960 960\">\n",
              "    <path d=\"M120-120v-720h720v720H120Zm60-500h600v-160H180v160Zm220 220h160v-160H400v160Zm0 220h160v-160H400v160ZM180-400h160v-160H180v160Zm440 0h160v-160H620v160ZM180-180h160v-160H180v160Zm440 0h160v-160H620v160Z\"/>\n",
              "  </svg>\n",
              "    </button>\n",
              "\n",
              "  <style>\n",
              "    .colab-df-container {\n",
              "      display:flex;\n",
              "      gap: 12px;\n",
              "    }\n",
              "\n",
              "    .colab-df-convert {\n",
              "      background-color: #E8F0FE;\n",
              "      border: none;\n",
              "      border-radius: 50%;\n",
              "      cursor: pointer;\n",
              "      display: none;\n",
              "      fill: #1967D2;\n",
              "      height: 32px;\n",
              "      padding: 0 0 0 0;\n",
              "      width: 32px;\n",
              "    }\n",
              "\n",
              "    .colab-df-convert:hover {\n",
              "      background-color: #E2EBFA;\n",
              "      box-shadow: 0px 1px 2px rgba(60, 64, 67, 0.3), 0px 1px 3px 1px rgba(60, 64, 67, 0.15);\n",
              "      fill: #174EA6;\n",
              "    }\n",
              "\n",
              "    .colab-df-buttons div {\n",
              "      margin-bottom: 4px;\n",
              "    }\n",
              "\n",
              "    [theme=dark] .colab-df-convert {\n",
              "      background-color: #3B4455;\n",
              "      fill: #D2E3FC;\n",
              "    }\n",
              "\n",
              "    [theme=dark] .colab-df-convert:hover {\n",
              "      background-color: #434B5C;\n",
              "      box-shadow: 0px 1px 3px 1px rgba(0, 0, 0, 0.15);\n",
              "      filter: drop-shadow(0px 1px 2px rgba(0, 0, 0, 0.3));\n",
              "      fill: #FFFFFF;\n",
              "    }\n",
              "  </style>\n",
              "\n",
              "    <script>\n",
              "      const buttonEl =\n",
              "        document.querySelector('#df-71c56e94-8be5-481c-b0af-b6f2fbdb0041 button.colab-df-convert');\n",
              "      buttonEl.style.display =\n",
              "        google.colab.kernel.accessAllowed ? 'block' : 'none';\n",
              "\n",
              "      async function convertToInteractive(key) {\n",
              "        const element = document.querySelector('#df-71c56e94-8be5-481c-b0af-b6f2fbdb0041');\n",
              "        const dataTable =\n",
              "          await google.colab.kernel.invokeFunction('convertToInteractive',\n",
              "                                                    [key], {});\n",
              "        if (!dataTable) return;\n",
              "\n",
              "        const docLinkHtml = 'Like what you see? Visit the ' +\n",
              "          '<a target=\"_blank\" href=https://colab.research.google.com/notebooks/data_table.ipynb>data table notebook</a>'\n",
              "          + ' to learn more about interactive tables.';\n",
              "        element.innerHTML = '';\n",
              "        dataTable['output_type'] = 'display_data';\n",
              "        await google.colab.output.renderOutput(dataTable, element);\n",
              "        const docLink = document.createElement('div');\n",
              "        docLink.innerHTML = docLinkHtml;\n",
              "        element.appendChild(docLink);\n",
              "      }\n",
              "    </script>\n",
              "  </div>\n",
              "\n",
              "\n",
              "<div id=\"df-eb1bc2be-3a89-4752-bded-ae52ef64e997\">\n",
              "  <button class=\"colab-df-quickchart\" onclick=\"quickchart('df-eb1bc2be-3a89-4752-bded-ae52ef64e997')\"\n",
              "            title=\"Suggest charts\"\n",
              "            style=\"display:none;\">\n",
              "\n",
              "<svg xmlns=\"http://www.w3.org/2000/svg\" height=\"24px\"viewBox=\"0 0 24 24\"\n",
              "     width=\"24px\">\n",
              "    <g>\n",
              "        <path d=\"M19 3H5c-1.1 0-2 .9-2 2v14c0 1.1.9 2 2 2h14c1.1 0 2-.9 2-2V5c0-1.1-.9-2-2-2zM9 17H7v-7h2v7zm4 0h-2V7h2v10zm4 0h-2v-4h2v4z\"/>\n",
              "    </g>\n",
              "</svg>\n",
              "  </button>\n",
              "\n",
              "<style>\n",
              "  .colab-df-quickchart {\n",
              "      --bg-color: #E8F0FE;\n",
              "      --fill-color: #1967D2;\n",
              "      --hover-bg-color: #E2EBFA;\n",
              "      --hover-fill-color: #174EA6;\n",
              "      --disabled-fill-color: #AAA;\n",
              "      --disabled-bg-color: #DDD;\n",
              "  }\n",
              "\n",
              "  [theme=dark] .colab-df-quickchart {\n",
              "      --bg-color: #3B4455;\n",
              "      --fill-color: #D2E3FC;\n",
              "      --hover-bg-color: #434B5C;\n",
              "      --hover-fill-color: #FFFFFF;\n",
              "      --disabled-bg-color: #3B4455;\n",
              "      --disabled-fill-color: #666;\n",
              "  }\n",
              "\n",
              "  .colab-df-quickchart {\n",
              "    background-color: var(--bg-color);\n",
              "    border: none;\n",
              "    border-radius: 50%;\n",
              "    cursor: pointer;\n",
              "    display: none;\n",
              "    fill: var(--fill-color);\n",
              "    height: 32px;\n",
              "    padding: 0;\n",
              "    width: 32px;\n",
              "  }\n",
              "\n",
              "  .colab-df-quickchart:hover {\n",
              "    background-color: var(--hover-bg-color);\n",
              "    box-shadow: 0 1px 2px rgba(60, 64, 67, 0.3), 0 1px 3px 1px rgba(60, 64, 67, 0.15);\n",
              "    fill: var(--button-hover-fill-color);\n",
              "  }\n",
              "\n",
              "  .colab-df-quickchart-complete:disabled,\n",
              "  .colab-df-quickchart-complete:disabled:hover {\n",
              "    background-color: var(--disabled-bg-color);\n",
              "    fill: var(--disabled-fill-color);\n",
              "    box-shadow: none;\n",
              "  }\n",
              "\n",
              "  .colab-df-spinner {\n",
              "    border: 2px solid var(--fill-color);\n",
              "    border-color: transparent;\n",
              "    border-bottom-color: var(--fill-color);\n",
              "    animation:\n",
              "      spin 1s steps(1) infinite;\n",
              "  }\n",
              "\n",
              "  @keyframes spin {\n",
              "    0% {\n",
              "      border-color: transparent;\n",
              "      border-bottom-color: var(--fill-color);\n",
              "      border-left-color: var(--fill-color);\n",
              "    }\n",
              "    20% {\n",
              "      border-color: transparent;\n",
              "      border-left-color: var(--fill-color);\n",
              "      border-top-color: var(--fill-color);\n",
              "    }\n",
              "    30% {\n",
              "      border-color: transparent;\n",
              "      border-left-color: var(--fill-color);\n",
              "      border-top-color: var(--fill-color);\n",
              "      border-right-color: var(--fill-color);\n",
              "    }\n",
              "    40% {\n",
              "      border-color: transparent;\n",
              "      border-right-color: var(--fill-color);\n",
              "      border-top-color: var(--fill-color);\n",
              "    }\n",
              "    60% {\n",
              "      border-color: transparent;\n",
              "      border-right-color: var(--fill-color);\n",
              "    }\n",
              "    80% {\n",
              "      border-color: transparent;\n",
              "      border-right-color: var(--fill-color);\n",
              "      border-bottom-color: var(--fill-color);\n",
              "    }\n",
              "    90% {\n",
              "      border-color: transparent;\n",
              "      border-bottom-color: var(--fill-color);\n",
              "    }\n",
              "  }\n",
              "</style>\n",
              "\n",
              "  <script>\n",
              "    async function quickchart(key) {\n",
              "      const quickchartButtonEl =\n",
              "        document.querySelector('#' + key + ' button');\n",
              "      quickchartButtonEl.disabled = true;  // To prevent multiple clicks.\n",
              "      quickchartButtonEl.classList.add('colab-df-spinner');\n",
              "      try {\n",
              "        const charts = await google.colab.kernel.invokeFunction(\n",
              "            'suggestCharts', [key], {});\n",
              "      } catch (error) {\n",
              "        console.error('Error during call to suggestCharts:', error);\n",
              "      }\n",
              "      quickchartButtonEl.classList.remove('colab-df-spinner');\n",
              "      quickchartButtonEl.classList.add('colab-df-quickchart-complete');\n",
              "    }\n",
              "    (() => {\n",
              "      let quickchartButtonEl =\n",
              "        document.querySelector('#df-eb1bc2be-3a89-4752-bded-ae52ef64e997 button');\n",
              "      quickchartButtonEl.style.display =\n",
              "        google.colab.kernel.accessAllowed ? 'block' : 'none';\n",
              "    })();\n",
              "  </script>\n",
              "</div>\n",
              "    </div>\n",
              "  </div>\n"
            ],
            "application/vnd.google.colaboratory.intrinsic+json": {
              "type": "dataframe",
              "variable_name": "data",
              "summary": "{\n  \"name\": \"data\",\n  \"rows\": 1600,\n  \"fields\": [\n    {\n      \"column\": \"std_0\",\n      \"properties\": {\n        \"dtype\": \"number\",\n        \"std\": 0.09875689765094253,\n        \"min\": 0.048640007438903544,\n        \"max\": 0.3363529190150087,\n        \"num_unique_values\": 1600,\n        \"samples\": [\n          0.062271137488131297,\n          0.06879071816576081,\n          0.06042160946841562\n        ],\n        \"semantic_type\": \"\",\n        \"description\": \"\"\n      }\n    },\n    {\n      \"column\": \"std_1\",\n      \"properties\": {\n        \"dtype\": \"number\",\n        \"std\": 0.09830756204338947,\n        \"min\": 0.0490859208047216,\n        \"max\": 0.3415561421426811,\n        \"num_unique_values\": 1600,\n        \"samples\": [\n          0.06295598008762159,\n          0.0669549529532893,\n          0.06070824860222588\n        ],\n        \"semantic_type\": \"\",\n        \"description\": \"\"\n      }\n    },\n    {\n      \"column\": \"peak_0\",\n      \"properties\": {\n        \"dtype\": \"number\",\n        \"std\": 0.4102120693564268,\n        \"min\": 0.12799818181818182,\n        \"max\": 1.6396201996007984,\n        \"num_unique_values\": 1095,\n        \"samples\": [\n          0.20277415384615383,\n          0.1637472727272727,\n          0.2545581818181818\n        ],\n        \"semantic_type\": \"\",\n        \"description\": \"\"\n      }\n    },\n    {\n      \"column\": \"peak_1\",\n      \"properties\": {\n        \"dtype\": \"number\",\n        \"std\": 0.41432852146572285,\n        \"min\": 0.12532727272727273,\n        \"max\": 1.5889404391217565,\n        \"num_unique_values\": 1111,\n        \"samples\": [\n          0.15655636363636363,\n          0.18253846153846154,\n          0.18326545454545454\n        ],\n        \"semantic_type\": \"\",\n        \"description\": \"\"\n      }\n    },\n    {\n      \"column\": \"skewness_0\",\n      \"properties\": {\n        \"dtype\": \"number\",\n        \"std\": 0.23872969410002243,\n        \"min\": -0.8155697577454097,\n        \"max\": 0.7594758108844487,\n        \"num_unique_values\": 1600,\n        \"samples\": [\n          -0.1111366515301446,\n          -0.20272910364316554,\n          0.004817820502851848\n        ],\n        \"semantic_type\": \"\",\n        \"description\": \"\"\n      }\n    },\n    {\n      \"column\": \"skewness_1\",\n      \"properties\": {\n        \"dtype\": \"number\",\n        \"std\": 0.24137629025369955,\n        \"min\": -0.7168071470254933,\n        \"max\": 0.7832177526010509,\n        \"num_unique_values\": 1600,\n        \"samples\": [\n          -0.147280327729231,\n          -0.2314518377452998,\n          0.020261065645552176\n        ],\n        \"semantic_type\": \"\",\n        \"description\": \"\"\n      }\n    },\n    {\n      \"column\": \"kurtosis_0\",\n      \"properties\": {\n        \"dtype\": \"number\",\n        \"std\": 1.2342400942689855,\n        \"min\": -0.8544117450255113,\n        \"max\": 7.953998951637686,\n        \"num_unique_values\": 1600,\n        \"samples\": [\n          0.11698977565660806,\n          -0.48629596260342733,\n          -0.4435670677851249\n        ],\n        \"semantic_type\": \"\",\n        \"description\": \"\"\n      }\n    },\n    {\n      \"column\": \"kurtosis_1\",\n      \"properties\": {\n        \"dtype\": \"number\",\n        \"std\": 1.26827997632681,\n        \"min\": -0.8542505004874883,\n        \"max\": 7.30475027161037,\n        \"num_unique_values\": 1600,\n        \"samples\": [\n          0.1545635740830682,\n          -0.46940218797828903,\n          -0.290219614174958\n        ],\n        \"semantic_type\": \"\",\n        \"description\": \"\"\n      }\n    },\n    {\n      \"column\": \"crest_factor_0\",\n      \"properties\": {\n        \"dtype\": \"number\",\n        \"std\": 0.6704819929500611,\n        \"min\": 2.0698666655740006,\n        \"max\": 5.764726065944275,\n        \"num_unique_values\": 1600,\n        \"samples\": [\n          3.2500431213042247,\n          2.497472162035992,\n          2.7428156240242108\n        ],\n        \"semantic_type\": \"\",\n        \"description\": \"\"\n      }\n    },\n    {\n      \"column\": \"crest_factor_1\",\n      \"properties\": {\n        \"dtype\": \"number\",\n        \"std\": 0.6870571712197121,\n        \"min\": 2.0141083102851636,\n        \"max\": 5.772529852191795,\n        \"num_unique_values\": 1600,\n        \"samples\": [\n          2.938084441762162,\n          2.2214052745063597,\n          2.6156658434376157\n        ],\n        \"semantic_type\": \"\",\n        \"description\": \"\"\n      }\n    },\n    {\n      \"column\": \"ptp_0\",\n      \"properties\": {\n        \"dtype\": \"number\",\n        \"std\": 0.796667225794628,\n        \"min\": 0.21436495104895104,\n        \"max\": 2.91717249500998,\n        \"num_unique_values\": 1547,\n        \"samples\": [\n          0.36215630769230767,\n          0.33484665734265734,\n          1.623863992015968\n        ],\n        \"semantic_type\": \"\",\n        \"description\": \"\"\n      }\n    },\n    {\n      \"column\": \"ptp_1\",\n      \"properties\": {\n        \"dtype\": \"number\",\n        \"std\": 0.8062926211270903,\n        \"min\": 0.2412794965034965,\n        \"max\": 2.832381357285429,\n        \"num_unique_values\": 1556,\n        \"samples\": [\n          2.0575657884231537,\n          0.3840893706293706,\n          0.3494465734265734\n        ],\n        \"semantic_type\": \"\",\n        \"description\": \"\"\n      }\n    },\n    {\n      \"column\": \"mean_0\",\n      \"properties\": {\n        \"dtype\": \"number\",\n        \"std\": 0.005076499848962056,\n        \"min\": 0.006120712167832172,\n        \"max\": 0.038343397062937074,\n        \"num_unique_values\": 1600,\n        \"samples\": [\n          0.024577025874125854,\n          0.017552313706293707,\n          0.015873750069930068\n        ],\n        \"semantic_type\": \"\",\n        \"description\": \"\"\n      }\n    },\n    {\n      \"column\": \"mean_1\",\n      \"properties\": {\n        \"dtype\": \"number\",\n        \"std\": 0.005151256848918634,\n        \"min\": 0.00589698797202797,\n        \"max\": 0.03824967818181818,\n        \"num_unique_values\": 1600,\n        \"samples\": [\n          0.024098553846153843,\n          0.01715943720279721,\n          0.015602075944055945\n        ],\n        \"semantic_type\": \"\",\n        \"description\": \"\"\n      }\n    },\n    {\n      \"column\": \"rms_0\",\n      \"properties\": {\n        \"dtype\": \"number\",\n        \"std\": 0.097269285543539,\n        \"min\": 0.05238579187480929,\n        \"max\": 0.3369246678585184,\n        \"num_unique_values\": 1600,\n        \"samples\": [\n          0.06694568518495576,\n          0.07099469432433157,\n          0.06247196837011251\n        ],\n        \"semantic_type\": \"\",\n        \"description\": \"\"\n      }\n    },\n    {\n      \"column\": \"rms_1\",\n      \"properties\": {\n        \"dtype\": \"number\",\n        \"std\": 0.0968164238755808,\n        \"min\": 0.05251710036937812,\n        \"max\": 0.342221146570185,\n        \"num_unique_values\": 1600,\n        \"samples\": [\n          0.06741064994694071,\n          0.06911882529451674,\n          0.06268106749341264\n        ],\n        \"semantic_type\": \"\",\n        \"description\": \"\"\n      }\n    },\n    {\n      \"column\": \"abs_mean_0\",\n      \"properties\": {\n        \"dtype\": \"number\",\n        \"std\": 0.07046884099297374,\n        \"min\": 0.042192682797202806,\n        \"max\": 0.2510866658682635,\n        \"num_unique_values\": 1600,\n        \"samples\": [\n          0.05418337356643357,\n          0.059116210769230765,\n          0.05117526615384616\n        ],\n        \"semantic_type\": \"\",\n        \"description\": \"\"\n      }\n    },\n    {\n      \"column\": \"abs_mean_1\",\n      \"properties\": {\n        \"dtype\": \"number\",\n        \"std\": 0.07002727760787716,\n        \"min\": 0.04207857650349653,\n        \"max\": 0.2500600737252768,\n        \"num_unique_values\": 1600,\n        \"samples\": [\n          0.055353184335664316,\n          0.05698130097902096,\n          0.05070635566433567\n        ],\n        \"semantic_type\": \"\",\n        \"description\": \"\"\n      }\n    }\n  ]\n}"
            }
          },
          "metadata": {},
          "execution_count": 11
        }
      ]
    },
    {
      "cell_type": "markdown",
      "source": [
        "# Shuffling and Normalization"
      ],
      "metadata": {
        "id": "vzmeGIEi7K2V"
      }
    },
    {
      "cell_type": "code",
      "source": [
        "from sklearn.model_selection import train_test_split\n",
        "\n",
        "X_train, X_test, y_train, y_test = train_test_split(data.values, y, test_size=0.2, random_state=14) #shuffling is always true"
      ],
      "metadata": {
        "id": "H_ntaJRTRoyl"
      },
      "execution_count": null,
      "outputs": []
    },
    {
      "cell_type": "code",
      "source": [
        "from sklearn.preprocessing import MinMaxScaler\n",
        "\n",
        "scaler = MinMaxScaler()\n",
        "X_train_normalized = scaler.fit_transform(X_train)\n",
        "X_test_normalized = scaler.transform(X_test)"
      ],
      "metadata": {
        "id": "cm8os4OGSDrr"
      },
      "execution_count": null,
      "outputs": []
    },
    {
      "cell_type": "markdown",
      "source": [
        "# Manual classifier"
      ],
      "metadata": {
        "id": "ZfMvHgxn7EMM"
      }
    },
    {
      "cell_type": "code",
      "source": [
        "import numpy as np\n",
        "import matplotlib.pyplot as plt\n",
        "\n",
        "def sigmoid(z):\n",
        "    return 1 / (1 + np.exp(-z))\n",
        "\n",
        "# The average logistic loss\n",
        "def compute_loss(Y, Y_hat):\n",
        "    Y = np.array(Y)\n",
        "    Y_hat = np.array(Y_hat)\n",
        "    epsilon = 1e-15\n",
        "    # Clip probabilities to ensure they are in (0, 1) range\n",
        "    Y_hat = np.clip(Y_hat, epsilon, 1 - epsilon)\n",
        "\n",
        "    return -np.mean(Y * np.log(Y_hat) + (1 - Y) * np.log(1 - Y_hat))\n",
        "\n",
        "def gradient_descent(X, Y, Y_hat, w, b, learning_rate):\n",
        "    m = X.shape[0]\n",
        "    dw = (1/m) * np.dot(X.T, (Y_hat - Y))\n",
        "    db = (1/m) * np.sum(Y_hat - Y)\n",
        "    w = w - learning_rate * dw\n",
        "    b = b - learning_rate * db\n",
        "    return w, b\n",
        "\n",
        "def evaluate_model(Y, Y_hat):\n",
        "    Y_pred = Y_hat > 0.5\n",
        "    accuracy = np.mean(Y_pred == Y)\n",
        "    precision = np.sum((Y_pred == 1) & (Y == 1)) / np.sum(Y_pred == 1)\n",
        "    return accuracy, precision"
      ],
      "metadata": {
        "id": "54XigoCXY1WF"
      },
      "execution_count": null,
      "outputs": []
    },
    {
      "cell_type": "code",
      "source": [
        "# Model initialization\n",
        "w = np.zeros((X_train_normalized.shape[1], 1))\n",
        "b = 0\n",
        "y_train = y_train.reshape(-1, 1)\n",
        "learning_rate = 0.05\n",
        "iterations = 100\n",
        "losses = []\n",
        "\n",
        "\n",
        "for i in range(iterations):\n",
        "    Z = np.dot(X_train_normalized, w) + b\n",
        "    Y_hat = sigmoid(Z)\n",
        "    loss = compute_loss(y_train, Y_hat)\n",
        "    w, b = gradient_descent(X_train_normalized, y_train, Y_hat, w, b, learning_rate)\n",
        "    losses.append(loss)\n",
        "    print(f\"Iteration {i+1}: Loss {loss}\")\n",
        "\n",
        "y_test = y_test.reshape(-1, 1)\n",
        "Z_test = np.dot(X_test_normalized, w) + b\n",
        "Y_hat_test = sigmoid(Z_test)\n",
        "accuracy, precision = evaluate_model(y_test, Y_hat_test)\n",
        "print(f\"\\nTest Accuracy: {accuracy}, Test Precision: {precision}\")\n",
        "\n",
        "plt.plot(losses)\n",
        "plt.title(\"Loss Function\")\n",
        "plt.xlabel(\"Iteration\")\n",
        "plt.ylabel(\"Loss\")\n",
        "plt.show()"
      ],
      "metadata": {
        "colab": {
          "base_uri": "https://localhost:8080/",
          "height": 1000
        },
        "id": "7ITdDP5lEhE4",
        "outputId": "c71f4e0e-53bc-437d-988d-a313b96ad321"
      },
      "execution_count": null,
      "outputs": [
        {
          "output_type": "stream",
          "name": "stdout",
          "text": [
            "Iteration 1: Loss 0.6931471805599453\n",
            "Iteration 2: Loss 0.6847236183810892\n",
            "Iteration 3: Loss 0.6764889694299887\n",
            "Iteration 4: Loss 0.6684353656291779\n",
            "Iteration 5: Loss 0.6605554367627237\n",
            "Iteration 6: Loss 0.6528422799160143\n",
            "Iteration 7: Loss 0.6452894294502746\n",
            "Iteration 8: Loss 0.637890827819969\n",
            "Iteration 9: Loss 0.630640797464064\n",
            "Iteration 10: Loss 0.6235340139369361\n",
            "Iteration 11: Loss 0.6165654803904159\n",
            "Iteration 12: Loss 0.6097305034738625\n",
            "Iteration 13: Loss 0.6030246706830575\n",
            "Iteration 14: Loss 0.5964438291599761\n",
            "Iteration 15: Loss 0.5899840659230348\n",
            "Iteration 16: Loss 0.5836416894902798\n",
            "Iteration 17: Loss 0.5774132128452794\n",
            "Iteration 18: Loss 0.571295337686451\n",
            "Iteration 19: Loss 0.5652849398945217\n",
            "Iteration 20: Loss 0.5593790561491996\n",
            "Iteration 21: Loss 0.5535748716244523\n",
            "Iteration 22: Loss 0.5478697086916018\n",
            "Iteration 23: Loss 0.5422610165604418\n",
            "Iteration 24: Loss 0.5367463617904422\n",
            "Iteration 25: Loss 0.5313234196066146\n",
            "Iteration 26: Loss 0.5259899659575658\n",
            "Iteration 27: Loss 0.5207438702565221\n",
            "Iteration 28: Loss 0.5155830887495245\n",
            "Iteration 29: Loss 0.510505658458496\n",
            "Iteration 30: Loss 0.505509691650383\n",
            "Iteration 31: Loss 0.5005933707870082\n",
            "Iteration 32: Loss 0.49575494391362207\n",
            "Iteration 33: Loss 0.4909927204473479\n",
            "Iteration 34: Loss 0.4863050673297796\n",
            "Iteration 35: Loss 0.4816904055108884\n",
            "Iteration 36: Loss 0.4771472067341203\n",
            "Iteration 37: Loss 0.47267399059511883\n",
            "Iteration 38: Loss 0.46826932184888265\n",
            "Iteration 39: Loss 0.46393180794237965\n",
            "Iteration 40: Loss 0.45966009675167446\n",
            "Iteration 41: Loss 0.4554528745045179\n",
            "Iteration 42: Loss 0.45130886387107594\n",
            "Iteration 43: Loss 0.44722682220707116\n",
            "Iteration 44: Loss 0.4432055399350638\n",
            "Iteration 45: Loss 0.4392438390509404\n",
            "Iteration 46: Loss 0.4353405717438884\n",
            "Iteration 47: Loss 0.43149461911925346\n",
            "Iteration 48: Loss 0.4277048900146806\n",
            "Iteration 49: Loss 0.4239703199008639\n",
            "Iteration 50: Loss 0.4202898698590645\n",
            "Iteration 51: Loss 0.4166625256283127\n",
            "Iteration 52: Loss 0.4130872967158986\n",
            "Iteration 53: Loss 0.40956321556537956\n",
            "Iteration 54: Loss 0.40608933677689174\n",
            "Iteration 55: Loss 0.402664736375068\n",
            "Iteration 56: Loss 0.39928851112032115\n",
            "Iteration 57: Loss 0.3959597778596692\n",
            "Iteration 58: Loss 0.3926776729136553\n",
            "Iteration 59: Loss 0.38944135149625236\n",
            "Iteration 60: Loss 0.38624998716494846\n",
            "Iteration 61: Loss 0.3831027712984877\n",
            "Iteration 62: Loss 0.37999891259998353\n",
            "Iteration 63: Loss 0.376937636623351\n",
            "Iteration 64: Loss 0.3739181853212016\n",
            "Iteration 65: Loss 0.3709398166125285\n",
            "Iteration 66: Loss 0.36800180396867066\n",
            "Iteration 67: Loss 0.36510343601619233\n",
            "Iteration 68: Loss 0.36224401615544627\n",
            "Iteration 69: Loss 0.3594228621937067\n",
            "Iteration 70: Loss 0.35663930599186566\n",
            "Iteration 71: Loss 0.3538926931237814\n",
            "Iteration 72: Loss 0.3511823825474541\n",
            "Iteration 73: Loss 0.34850774628728043\n",
            "Iteration 74: Loss 0.3458681691267096\n",
            "Iteration 75: Loss 0.34326304831068466\n",
            "Iteration 76: Loss 0.34069179325730836\n",
            "Iteration 77: Loss 0.338153825278225\n",
            "Iteration 78: Loss 0.3356485773072533\n",
            "Iteration 79: Loss 0.3331754936368461\n",
            "Iteration 80: Loss 0.3307340296619901\n",
            "Iteration 81: Loss 0.32832365163119015\n",
            "Iteration 82: Loss 0.32594383640421326\n",
            "Iteration 83: Loss 0.32359407121629297\n",
            "Iteration 84: Loss 0.32127385344851933\n",
            "Iteration 85: Loss 0.31898269040416005\n",
            "Iteration 86: Loss 0.3167200990906788\n",
            "Iteration 87: Loss 0.31448560600723235\n",
            "Iteration 88: Loss 0.31227874693744595\n",
            "Iteration 89: Loss 0.31009906674727794\n",
            "Iteration 90: Loss 0.3079461191877987\n",
            "Iteration 91: Loss 0.3058194667027207\n",
            "Iteration 92: Loss 0.30371868024052523\n",
            "Iteration 93: Loss 0.3016433390710418\n",
            "Iteration 94: Loss 0.2995930306063449\n",
            "Iteration 95: Loss 0.297567350225839\n",
            "Iteration 96: Loss 0.2955659011054113\n",
            "Iteration 97: Loss 0.29358829405053627\n",
            "Iteration 98: Loss 0.2916341473332233\n",
            "Iteration 99: Loss 0.2897030865327033\n",
            "Iteration 100: Loss 0.2877947443797544\n",
            "\n",
            "Test Accuracy: 1.0, Test Precision: 1.0\n"
          ]
        },
        {
          "output_type": "display_data",
          "data": {
            "text/plain": [
              "<Figure size 640x480 with 1 Axes>"
            ],
            "image/png": "[encoded data removed]"
          },
          "metadata": {}
        }
      ]
    },
    {
      "cell_type": "markdown",
      "source": [
        "# using SKLearn"
      ],
      "metadata": {
        "id": "PeppKgpZ6_2s"
      }
    },
    {
      "cell_type": "code",
      "source": [
        "from sklearn.linear_model import SGDClassifier\n",
        "from sklearn.metrics import mean_squared_error\n",
        "from sklearn.metrics import accuracy_score, precision_score\n",
        "\n",
        "# Reshape to be 1-dimensional\n",
        "y_train_ravel = y_train.ravel()\n",
        "y_test_ravel = y_test.ravel()\n",
        "\n",
        "model = SGDClassifier(loss='log_loss', max_iter=100 , learning_rate='constant', eta0=0.05)\n",
        "\n",
        "model.fit(X_train_normalized, y_train_ravel)\n",
        "\n",
        "y_pred_train = model.predict(X_train_normalized)\n",
        "y_pred_test = model.predict(X_test_normalized)\n",
        "\n",
        "# Evaluation\n",
        "train_accuracy = accuracy_score(y_train, y_pred_train)\n",
        "test_accuracy = accuracy_score(y_test, y_pred_test)\n",
        "train_precision = precision_score(y_train, y_pred_train)\n",
        "test_precision = precision_score(y_test, y_pred_test)\n",
        "\n",
        "print(f\"Train Accuracy: {train_accuracy}, Test Accuracy: {test_accuracy}\")\n",
        "print(f\"Train Precision: {train_precision}, Test Precision: {test_precision}\")"
      ],
      "metadata": {
        "colab": {
          "base_uri": "https://localhost:8080/"
        },
        "id": "KWQbwIcEnKXO",
        "outputId": "33809601-8927-4699-862c-158ccf8cbb2e"
      },
      "execution_count": null,
      "outputs": [
        {
          "output_type": "stream",
          "name": "stdout",
          "text": [
            "Train Accuracy: 1.0, Test Accuracy: 1.0\n",
            "Train Precision: 1.0, Test Precision: 1.0\n"
          ]
        }
      ]
    },
    {
      "cell_type": "markdown",
      "source": [
        "## With plotting"
      ],
      "metadata": {
        "id": "44mc52mY68_I"
      }
    },
    {
      "cell_type": "code",
      "source": [
        "from sklearn.linear_model import SGDClassifier\n",
        "from sklearn.metrics import mean_squared_error\n",
        "from sklearn.metrics import accuracy_score, precision_score\n",
        "\n",
        "model = SGDClassifier(loss='log_loss', max_iter=1 , learning_rate='constant', eta0=0.05)\n",
        "\n",
        "# Reshape to be 1-dimensional\n",
        "y_train_ravel = y_train.ravel()\n",
        "y_test_ravel = y_test.ravel()\n",
        "\n",
        "train_losses = []\n",
        "val_losses = []\n",
        "\n",
        "# Manual training loop\n",
        "for _ in range(100):\n",
        "    model.partial_fit(X_train_normalized, y_train_ravel, classes=np.unique(y))  # Partially fit the model\n",
        "\n",
        "    # Calculate probabilities\n",
        "    train_probs = model.predict_proba(X_train_normalized)[:, 1]\n",
        "    val_probs = model.predict_proba(X_test_normalized)[:, 1]\n",
        "\n",
        "    # Calculate and record the custom loss\n",
        "    train_loss = compute_loss(y_train, train_probs)\n",
        "    val_loss = compute_loss(y_test, val_probs)\n",
        "\n",
        "    train_losses.append(train_loss)\n",
        "    val_losses.append(val_loss)\n",
        "\n",
        "y_pred_train = model.predict(X_train_normalized)\n",
        "y_pred_test = model.predict(X_test_normalized)\n",
        "\n",
        "# Evaluation\n",
        "train_accuracy = accuracy_score(y_train, y_pred_train)\n",
        "test_accuracy = accuracy_score(y_test, y_pred_test)\n",
        "train_precision = precision_score(y_train, y_pred_train)\n",
        "test_precision = precision_score(y_test, y_pred_test)\n",
        "\n",
        "print(f\"Train Accuracy: {train_accuracy}, Test Accuracy: {test_accuracy}\")\n",
        "print(f\"Train Precision: {train_precision}, Test Precision: {test_precision}\")\n",
        "\n",
        "# Plotting the loss curve\n",
        "plt.plot(train_losses, label='Training loss')\n",
        "plt.plot(val_losses, label='Validation loss')\n",
        "plt.xlabel('Iteration')\n",
        "plt.ylabel('The average Logistic loss')\n",
        "plt.legend()\n",
        "plt.show()"
      ],
      "metadata": {
        "colab": {
          "base_uri": "https://localhost:8080/",
          "height": 484
        },
        "id": "I3B2vaoQ6kvN",
        "outputId": "aac63ba1-9414-4e12-9ead-dcd695c1978b"
      },
      "execution_count": null,
      "outputs": [
        {
          "output_type": "stream",
          "name": "stdout",
          "text": [
            "Train Accuracy: 1.0, Test Accuracy: 1.0\n",
            "Train Precision: 1.0, Test Precision: 1.0\n"
          ]
        },
        {
          "output_type": "display_data",
          "data": {
            "text/plain": [
              "<Figure size 640x480 with 1 Axes>"
            ],
            "image/png": "[encoded data removed]"
          },
          "metadata": {}
        }
      ]
    }
  ]
}